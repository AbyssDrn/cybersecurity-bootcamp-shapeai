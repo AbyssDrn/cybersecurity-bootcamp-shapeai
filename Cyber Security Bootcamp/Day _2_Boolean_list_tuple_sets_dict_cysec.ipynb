{
 "cells": [
  {
   "cell_type": "markdown",
   "metadata": {},
   "source": [
    "<h1>LIST:</h1>\n"
   ]
  },
  {
   "cell_type": "code",
   "execution_count": 1,
   "metadata": {},
   "outputs": [],
   "source": [
    "subjects = ['History', 'Math', 'Physics', 'CS']"
   ]
  },
  {
   "cell_type": "code",
   "execution_count": 2,
   "metadata": {},
   "outputs": [
    {
     "name": "stdout",
     "output_type": "stream",
     "text": [
      "['History', 'Math', 'Physics', 'CS']\n"
     ]
    }
   ],
   "source": [
    "print(subjects) \n",
    "#Prints all the elements of the list"
   ]
  },
  {
   "cell_type": "code",
   "execution_count": 3,
   "metadata": {},
   "outputs": [
    {
     "name": "stdout",
     "output_type": "stream",
     "text": [
      "4\n"
     ]
    }
   ],
   "source": [
    "print(len(subjects))\n",
    "#Prints number of elements in list"
   ]
  },
  {
   "cell_type": "code",
   "execution_count": 4,
   "metadata": {},
   "outputs": [
    {
     "name": "stdout",
     "output_type": "stream",
     "text": [
      "History\n"
     ]
    }
   ],
   "source": [
    "print(subjects[0])\n",
    "#Prints the 1st element (History)"
   ]
  },
  {
   "cell_type": "code",
   "execution_count": 5,
   "metadata": {},
   "outputs": [
    {
     "name": "stdout",
     "output_type": "stream",
     "text": [
      "CS\n"
     ]
    }
   ],
   "source": [
    "print(subjects[-1])\n",
    "#Prints the last element (History)"
   ]
  },
  {
   "cell_type": "code",
   "execution_count": 6,
   "metadata": {},
   "outputs": [
    {
     "name": "stdout",
     "output_type": "stream",
     "text": [
      "['History', 'Math']\n",
      "['History', 'Math']\n"
     ]
    }
   ],
   "source": [
    "print(subjects[:2])\n",
    "#Prints the 1st & 2nd element (History)\n",
    "print(subjects[:2])"
   ]
  },
  {
   "cell_type": "code",
   "execution_count": 7,
   "metadata": {},
   "outputs": [
    {
     "name": "stdout",
     "output_type": "stream",
     "text": [
      "['History', 'Math', 'Physics', 'CS', 'DS']\n"
     ]
    }
   ],
   "source": [
    "subjects.append('DS')\n",
    "#Adds the item at the end of the list\n",
    "print(subjects)"
   ]
  },
  {
   "cell_type": "code",
   "execution_count": 8,
   "metadata": {},
   "outputs": [
    {
     "name": "stdout",
     "output_type": "stream",
     "text": [
      "['DBMS', 'History', 'Math', 'Physics', 'CS', 'DS']\n"
     ]
    }
   ],
   "source": [
    "subjects.insert(0,'DBMS')\n",
    "#Adds the item at index 0\n",
    "print(subjects)"
   ]
  },
  {
   "cell_type": "code",
   "execution_count": 9,
   "metadata": {},
   "outputs": [],
   "source": [
    "subjects_2 = ['Art', 'Design', 'Chemistry']"
   ]
  },
  {
   "cell_type": "code",
   "execution_count": 10,
   "metadata": {},
   "outputs": [],
   "source": [
    "#subjects.insert(0,subjects_2)\n",
    "#print(subjects)\n",
    "#Let's try to add elements of subject_2 to subjects\n",
    "#it got added as a seperate list in element 0, rather than splitting the items in subject_2 then adding them"
   ]
  },
  {
   "cell_type": "code",
   "execution_count": 11,
   "metadata": {},
   "outputs": [
    {
     "name": "stdout",
     "output_type": "stream",
     "text": [
      "['DBMS', 'History', 'Math', 'Physics', 'CS', 'DS', 'Art', 'Design', 'Chemistry']\n"
     ]
    }
   ],
   "source": [
    "subjects.extend(subjects_2)\n",
    "print(subjects)\n",
    "#Adds each element seperately to subject_2 at the end of the list"
   ]
  },
  {
   "cell_type": "code",
   "execution_count": 12,
   "metadata": {},
   "outputs": [
    {
     "name": "stdout",
     "output_type": "stream",
     "text": [
      "['DBMS', 'History', 'Physics', 'CS', 'DS', 'Art', 'Design', 'Chemistry']\n"
     ]
    }
   ],
   "source": [
    "subjects.remove('Math')\n",
    "#Finds & Removes Math from the list\n",
    "print(subjects)"
   ]
  },
  {
   "cell_type": "code",
   "execution_count": 13,
   "metadata": {},
   "outputs": [
    {
     "name": "stdout",
     "output_type": "stream",
     "text": [
      "['DBMS', 'History', 'Physics', 'CS', 'DS', 'Art', 'Design']\n",
      "Chemistry\n"
     ]
    }
   ],
   "source": [
    "popped = subjects.pop()\n",
    "#Removes the last item in the list\n",
    "\n",
    "print(subjects)\n",
    "\n",
    "print(popped)\n",
    "#Grabs the popped item"
   ]
  },
  {
   "cell_type": "code",
   "execution_count": 16,
   "metadata": {},
   "outputs": [
    {
     "name": "stdout",
     "output_type": "stream",
     "text": [
      "['DBMS', 'History', 'Physics', 'CS', 'DS', 'Art', 'Design']\n"
     ]
    }
   ],
   "source": [
    "subjects.reverse()\n",
    "#Reverses the list\n",
    "print(subjects)"
   ]
  },
  {
   "cell_type": "code",
   "execution_count": null,
   "metadata": {},
   "outputs": [],
   "source": []
  }
 ],
 "metadata": {
  "kernelspec": {
   "display_name": "Python 3",
   "language": "python",
   "name": "python3"
  },
  "language_info": {
   "codemirror_mode": {
    "name": "ipython",
    "version": 3
   },
   "file_extension": ".py",
   "mimetype": "text/x-python",
   "name": "python",
   "nbconvert_exporter": "python",
   "pygments_lexer": "ipython3",
   "version": "3.7.3"
  }
 },
 "nbformat": 4,
 "nbformat_minor": 2
}
